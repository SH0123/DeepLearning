{
  "nbformat": 4,
  "nbformat_minor": 0,
  "metadata": {
    "colab": {
      "name": "TensorManipulation.ipynb",
      "provenance": [],
      "collapsed_sections": [],
      "authorship_tag": "ABX9TyNUaNSxehETIaC9uyhGqcpj",
      "include_colab_link": true
    },
    "kernelspec": {
      "name": "python3",
      "display_name": "Python 3"
    }
  },
  "cells": [
    {
      "cell_type": "markdown",
      "metadata": {
        "id": "view-in-github",
        "colab_type": "text"
      },
      "source": [
        "<a href=\"https://colab.research.google.com/github/SH0123/DeepLearning/blob/master/TensorManipulation.ipynb\" target=\"_parent\"><img src=\"https://colab.research.google.com/assets/colab-badge.svg\" alt=\"Open In Colab\"/></a>"
      ]
    },
    {
      "cell_type": "code",
      "metadata": {
        "id": "PC367bGWAoP-",
        "colab_type": "code",
        "colab": {}
      },
      "source": [
        "import numpy as np\n",
        "import torch"
      ],
      "execution_count": 0,
      "outputs": []
    },
    {
      "cell_type": "markdown",
      "metadata": {
        "id": "xDOLzoYoAvKw",
        "colab_type": "text"
      },
      "source": [
        "2D array with numpy"
      ]
    },
    {
      "cell_type": "code",
      "metadata": {
        "id": "h__8i_gF_IHO",
        "colab_type": "code",
        "colab": {}
      },
      "source": [
        "#2D array with numpy\n",
        "t = np.array([[1.,2.,3.], [4.,5.,6.], [7.,8.,9.], [10.,11.,12.]])\n",
        "print(t)\n",
        "print('Rank of t: ', t.ndim)\n",
        "print('Shape of t: ', t.shape)"
      ],
      "execution_count": 0,
      "outputs": []
    },
    {
      "cell_type": "markdown",
      "metadata": {
        "id": "hPzOLCYRAyt1",
        "colab_type": "text"
      },
      "source": [
        "2D array with pytorch"
      ]
    },
    {
      "cell_type": "code",
      "metadata": {
        "id": "UlqhUGQ3ATFy",
        "colab_type": "code",
        "colab": {
          "base_uri": "https://localhost:8080/",
          "height": 230
        },
        "outputId": "0e14fbb4-10b2-4f61-ea02-1917ff30cbcc"
      },
      "source": [
        "tensor = torch.FloatTensor([[1.,2.,3.], \n",
        "                       [4.,5.,6.], \n",
        "                       [7.,8.,9.], \n",
        "                       [10.,11.,12.]])\n",
        "print(tensor)\n",
        "print(tensor.dim())\n",
        "print(tensor.size())\n",
        "print(tensor[:, 1])\n",
        "print(tensor[:, 1].size())\n",
        "print(tensor[:, :-1])"
      ],
      "execution_count": 11,
      "outputs": [
        {
          "output_type": "stream",
          "text": [
            "tensor([[ 1.,  2.,  3.],\n",
            "        [ 4.,  5.,  6.],\n",
            "        [ 7.,  8.,  9.],\n",
            "        [10., 11., 12.]])\n",
            "2\n",
            "torch.Size([4, 3])\n",
            "tensor([ 2.,  5.,  8., 11.])\n",
            "torch.Size([4])\n",
            "tensor([[ 1.,  2.],\n",
            "        [ 4.,  5.],\n",
            "        [ 7.,  8.],\n",
            "        [10., 11.]])\n"
          ],
          "name": "stdout"
        }
      ]
    },
    {
      "cell_type": "code",
      "metadata": {
        "id": "9jCpTet4BHxl",
        "colab_type": "code",
        "colab": {
          "base_uri": "https://localhost:8080/",
          "height": 35
        },
        "outputId": "6a8e6c9d-a642-4e1d-e343-0621128144f9"
      },
      "source": [
        "#vector + scalar\n",
        "m1 = torch.FloatTensor([[1, 2]])\n",
        "m2 = torch.FloatTensor([3]) # 3 -> [[3, 3]] (1,) -> (1, 2)\n",
        "\n",
        "print(m1 + m2)"
      ],
      "execution_count": 17,
      "outputs": [
        {
          "output_type": "stream",
          "text": [
            "tensor([[4., 5.]])\n"
          ],
          "name": "stdout"
        }
      ]
    },
    {
      "cell_type": "code",
      "metadata": {
        "id": "Ju7CsFeICKHg",
        "colab_type": "code",
        "colab": {
          "base_uri": "https://localhost:8080/",
          "height": 52
        },
        "outputId": "194d1d7b-ba83-4edd-a64f-8379d513d0b0"
      },
      "source": [
        "# 2 X 1 vector + 1 X 2 vector\n",
        "m1 = torch.FloatTensor([[5], [7]]) #(2, 1) -> (2, 2)\n",
        "m2 = torch.FloatTensor([[10, 11]]) #(1, 2) -> (2, 2)\n",
        "\n",
        "print(m1 + m2)"
      ],
      "execution_count": 16,
      "outputs": [
        {
          "output_type": "stream",
          "text": [
            "tensor([[15., 16.],\n",
            "        [17., 18.]])\n"
          ],
          "name": "stdout"
        }
      ]
    },
    {
      "cell_type": "code",
      "metadata": {
        "id": "BT4vKdaZClMu",
        "colab_type": "code",
        "colab": {
          "base_uri": "https://localhost:8080/",
          "height": 124
        },
        "outputId": "bf2e4ad2-4c05-4494-80b2-9d790af2ae1f"
      },
      "source": [
        "# matmul != mul or *\n",
        "m1 = torch.FloatTensor([[1, 2], [3, 4]])\n",
        "m2 = torch.FloatTensor([[2], [2]])\n",
        "\n",
        "print('matmul : ', m1.matmul(m2))\n",
        "print('* : ', m1 * m2)\n",
        "print('mul : ', m1.mul(m2))"
      ],
      "execution_count": 20,
      "outputs": [
        {
          "output_type": "stream",
          "text": [
            "matmul :  tensor([[ 6.],\n",
            "        [14.]])\n",
            "* :  tensor([[2., 4.],\n",
            "        [6., 8.]])\n",
            "mul :  tensor([[2., 4.],\n",
            "        [6., 8.]])\n"
          ],
          "name": "stdout"
        }
      ]
    },
    {
      "cell_type": "markdown",
      "metadata": {
        "id": "tWr6qeQSEkoE",
        "colab_type": "text"
      },
      "source": [
        "Mean, argmax, sum 등에서의 dim에 대한 이해"
      ]
    },
    {
      "cell_type": "code",
      "metadata": {
        "id": "uDqBt6qOD6wv",
        "colab_type": "code",
        "colab": {
          "base_uri": "https://localhost:8080/",
          "height": 124
        },
        "outputId": "4b6d607f-c49c-4437-81dc-6870133b8b03"
      },
      "source": [
        "t = torch.FloatTensor([[1, 2], [3, 4]])\n",
        "print(t)\n",
        "print(t.shape)\n",
        "print(t.mean())\n",
        "print(t.mean(dim=0)) # 0번째 차원을 압축시키겠다!\n",
        "print(t.mean(dim=1)) # 1번째 차원을 압축시키겠다!"
      ],
      "execution_count": 28,
      "outputs": [
        {
          "output_type": "stream",
          "text": [
            "tensor([[1., 2.],\n",
            "        [3., 4.]])\n",
            "torch.Size([2, 2])\n",
            "tensor(2.5000)\n",
            "tensor([2., 3.])\n",
            "tensor([1.5000, 3.5000])\n"
          ],
          "name": "stdout"
        }
      ]
    },
    {
      "cell_type": "code",
      "metadata": {
        "id": "ZO4h7e1GEvwq",
        "colab_type": "code",
        "colab": {}
      },
      "source": [
        ""
      ],
      "execution_count": 0,
      "outputs": []
    }
  ]
}